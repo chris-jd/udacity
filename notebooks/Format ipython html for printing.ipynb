{
 "cells": [
  {
   "cell_type": "markdown",
   "metadata": {},
   "source": [
    "This notebook is a work in progress.\n",
    "\n",
    "Ultimately I aim to do the following with this notebook:\n",
    "- Run a ipynb through nbconvert to convert to html\n",
    "- Collect resulting html, modify the presentation using beautifulsoup to format it as desired\n",
    "- Export updated html\n",
    "- PDF the html file using google chrome or similar (seems tempermental)\n",
    "\n",
    "Wish list for things to add in the future:\n",
    "1. Strip out the In[] and Out[] tags\n",
    "2. Remove all input cells if the option is chosen\n",
    "3. Remove all output cells if the option is chosen\n",
    "4. Selectively remove input/output cells based on comments put in those cells.\n",
    "5. Apply custom stylesheet for printing (CSS)\n",
    "6. Add custom headers/footers (appears to be difficult due to poor/inconsistent implementations of the css spec)\n",
    "\n",
    "So for 1, 2 and 4 are partially implemented."
   ]
  },
  {
   "cell_type": "markdown",
   "metadata": {},
   "source": [
    "**Notes**\n",
    "- Make sure beautifulsoup and lxml are up to date. I've had some issues with the whole html not being parsed.\n",
    "- You'll need pandoc or node.js installed to do the nbconvert\n",
    "- It's currently setup to run a file that's in the same directory as your notebook\n",
    "- Working on my pc and mac, your milage may vary. If there are problems it's probably with terminal commands.\n",
    "- When this is transferred into a python script, the ipython command line magics will need to be fixed.\n",
    "- There are 6 heading styles built into ipynb. I propose we use them as follows:\n",
    "    1. Section Heading\n",
    "    2. Sub-section Heading\n",
    "    3. Sub-sub-section Heading\n",
    "    4. Figure Caption\n",
    "    5. Unused\n",
    "    6. Unused\n",
    "- Currently the best way to get decent pagination is to include headings using markdown (instead of heading cells) and have each paragraph as a seperate cell. I appreciate the inconvenience this causes."
   ]
  },
  {
   "cell_type": "markdown",
   "metadata": {},
   "source": [
    "**Possible Improvements**\n",
    "- We may want to keep 5 and 6 unused so that they can be defined per document?\n",
    "- This converter goes with a css file called 'sea-style.css'\n",
    "- The notebooks interface doesnt work with the chrome spell checker. It might be worth seeing if we can integrate some sort of spell checking into the conversion process to save embarassing mistakes being sent to clients.\n",
    "- Might be worth adding auto-numbering of headings and figures (and if we're really ambitious an auto-TOC, and then add auto cross-referencing etc etc etc)\n",
    "- Might be worth doing something to handle the pagination a little better and a little more automatically.\n",
    "- Wouldn't it be awesome if we could tag python variables into our markdown, so that the report written text automatically updates with the results? This would probably be very hard to do, as it would require knowledge of the variable results when we're only reading the html output."
   ]
  },
  {
   "cell_type": "markdown",
   "metadata": {},
   "source": [
    "**TO DO**\n",
    "- Hide the text that says '#hide output' from input cells.\n",
    "- Sort out the CSS for input and output cells to make them the same width (smaller?) than the text cells above and below.\n",
    "- Implement settings for Heading 4 to be used as Figure Caption.\n",
    "- Need to handle error boxes\n",
    "- Need to make some changes to ensure that svg graphics have the correct width relative to the text.\n",
    "- Need to fix ggplot svg graphics being significantly too big."
   ]
  },
  {
   "cell_type": "code",
   "execution_count": 184,
   "metadata": {
    "collapsed": false
   },
   "outputs": [
    {
     "name": "stdout",
     "output_type": "stream",
     "text": [
      "[NbConvertApp] Using existing profile dir: u'/Users/sea-user/.ipython/profile_default'\n",
      "[NbConvertApp] Converting notebook Probabilistic Assessment.ipynb to html\n",
      "[NbConvertApp] Support files will be in Probabilistic Assessment_files/\n",
      "[NbConvertApp] Loaded template full.tpl\n",
      "[NbConvertApp] Writing 966334 bytes to Probabilistic Assessment.html\n"
     ]
    }
   ],
   "source": [
    "INPUT_FILE = r'Probabilistic Assessment' #target ipynb file, but specified with no extension.\n",
    "target = '\"' + INPUT_FILE + '.ipynb\"'\n",
    "#convert to html\n",
    "!ipython nbconvert --to html $target"
   ]
  },
  {
   "cell_type": "code",
   "execution_count": 185,
   "metadata": {
    "collapsed": false
   },
   "outputs": [],
   "source": [
    "from bs4 import BeautifulSoup\n",
    "soup = BeautifulSoup(open(INPUT_FILE + r'.html'), 'html5lib')"
   ]
  },
  {
   "cell_type": "code",
   "execution_count": 186,
   "metadata": {
    "collapsed": false
   },
   "outputs": [
    {
     "name": "stdout",
     "output_type": "stream",
     "text": [
      "<span class=\"c\">#hide input</span>\n",
      "<span class=\"c\">#hide input</span>\n",
      "<span class=\"c\">#hide input</span>\n",
      "<span class=\"c\">#hide input</span>\n",
      "<span class=\"c\">#hide input</span>\n",
      "<span class=\"c\">#hide input</span>\n",
      "<span class=\"c\">#hide input</span>\n",
      "<span class=\"c\">#hide input</span>\n",
      "<span class=\"c\">#hide input</span>\n",
      "<span class=\"c\">#hide input</span>\n",
      "<span class=\"c\">#hide input</span>\n",
      "<span class=\"c\">#hide input</span>\n",
      "<span class=\"c\">#hide input</span>\n",
      "<span class=\"c\">#hide input</span>\n",
      "<span class=\"c\">#hide input</span>\n",
      "<span class=\"c\">#hide input</span>\n",
      "<span class=\"c\">#hide input</span>\n"
     ]
    }
   ],
   "source": [
    "for tag in soup.find_all('div', 'cell border-box-sizing code_cell rendered'):\n",
    "    #cycle through each cell\n",
    "    for el in tag.find_all('span', 'c'):\n",
    "        #go through each element of the cell. \n",
    "        if el.text == '#hide input':\n",
    "            #If one of the cells contains a comment line that\n",
    "            #says #hide input then that cell will be deleted.\n",
    "            print el"
   ]
  },
  {
   "cell_type": "code",
   "execution_count": 187,
   "metadata": {
    "collapsed": false
   },
   "outputs": [],
   "source": [
    "#clear text from input and output boxes (i.e. In [32]:)\n",
    "#do not destroy the boxes as this messes with the layout.\n",
    "for tag in soup.find_all('div', 'prompt input_prompt'):\n",
    "    tag.clear()\n",
    "for tag in soup.find_all('div', 'prompt output_prompt'):\n",
    "    tag.clear()\n",
    "#destroy anchor links (the bookmark links that appear when you hover over headers)\n",
    "for tag in soup.find_all('a','anchor-link'):\n",
    "    tag.decompose()\n"
   ]
  },
  {
   "cell_type": "code",
   "execution_count": 188,
   "metadata": {
    "collapsed": false
   },
   "outputs": [],
   "source": [
    "DELETE_INPUTS = False\n",
    "\n",
    "#this section looks for special commands in the input/output cells to change the appearance of the notebook.\n",
    "for tag in soup.find_all('div', 'cell border-box-sizing code_cell rendered'):\n",
    "    #cycle through each cell\n",
    "    for el in tag.find_all('span', 'c'):\n",
    "        #go through each element of the cell. \n",
    "        if el.text == '#hide input':\n",
    "            #If one of the cells contains a comment line that\n",
    "            #says #hide input then that cell will be deleted.\n",
    "            for x in tag.find_all('div','input'):\n",
    "                x.decompose()\n",
    "            break\n",
    "        elif el.text == '#hide input/output':\n",
    "            #deletes entire cell block\n",
    "            tag.decompose()\n",
    "            break\n",
    "        elif el.text == '#hide output':\n",
    "            #delete all output blocks\n",
    "            #tag.find('div','output_wrapper').decompose() #this isn't working for some reason\n",
    "            for x in tag.find_all('div','output_wrapper'):\n",
    "                x.decompose()\n",
    "            break\n",
    "          \n",
    "            \n",
    "#delete all the input cells\n",
    "if DELETE_INPUTS:\n",
    "    for tag in soup.find_all('div', 'input'):\n",
    "        #cycle through each cell and delete all input cells\n",
    "        tag.decompose()\n",
    "\n",
    "#@media print{*{text-shadow:none !important;color:#000 !important;background:transparent !important;box-shadow:none !important} a,a:visited{text-decoration:underline} a[href]:after{content:\" (\" attr(href) \")\"} abbr[title]:after{content:\" (\" attr(title) \")\"} .ir a:after,a[href^=\"javascript:\"]:after,a[href^=\"#\"]:after{content:\"\"} pre,blockquote{border:1px solid #999;page-break-inside:avoid} thead{display:table-header-group} tr,img{page-break-inside:avoid} img{max-width:100% !important} @page {margin:.5cm}p,h2,h3{orphans:3;widows:3} h2,h3{page-break-after:avoid}}body{margin:0;font-family:\"Helvetica Neue\",Helvetica,Arial,sans-serif;font-size:13px;line-height:20px;color:#000;background-color:#fff}\n"
   ]
  },
  {
   "cell_type": "code",
   "execution_count": 189,
   "metadata": {
    "collapsed": false
   },
   "outputs": [],
   "source": [
    "# ipython notebooks appears to automatically embed the css into the html file\n",
    "# this finds and removes a string in the embedded stylesheet that forces all code cells to be black when printed.\n",
    "\n",
    "for tag in soup.find_all('style', type='text/css'):\n",
    "    #finds some css tags and replaces them using agricultural means\n",
    "    s = tag.text.replace('@media print{*{text-shadow:none !important;color:#000 !important;',\n",
    "                    '@media print{*{text-shadow:none !important;')       #remove the change to monochrome text colours\n",
    "    s = s.replace('@page {margin:0.5cm}', '@page {margin:1.5cm}')        #increase page margins\n",
    "    s = s.replace('blockquote{border:1px solid #999;page-break-inside:avoid}',\n",
    "                  'blockquote{page-break-inside:avoid}')                 #remove ridiculous looking border from blockquotes that print\n",
    "    tag.string = s"
   ]
  },
  {
   "cell_type": "code",
   "execution_count": 190,
   "metadata": {
    "collapsed": false
   },
   "outputs": [],
   "source": [
    "#change custom stylesheet to be loaded to one specific for the notebook\n",
    "#<link href=\"custom.css\" rel=\"stylesheet\"/>\n",
    "for tag in soup.find_all('link', href='custom.css', rel='stylesheet'):\n",
    "    tag['href'] = 'sea-style.css'"
   ]
  },
  {
   "cell_type": "code",
   "execution_count": 191,
   "metadata": {
    "collapsed": false
   },
   "outputs": [],
   "source": [
    "#shrink the svg's by 70% so they don't overlap the sides of the text\n",
    "from re import match, I\n",
    "for tag in soup.find_all('svg'):\n",
    "    current_val = tag['height']\n",
    "    #use regex to split the string into numbers and string\n",
    "    m = match(r\"([0-9]+)([a-z]+)\", current_val, I)\n",
    "    if match:\n",
    "        items = m.groups()\n",
    "        tag['height'] = str(0.7*float(items[0]))+items[1] #multiply the height by 0.8 and reinsert into html\n"
   ]
  },
  {
   "cell_type": "code",
   "execution_count": 192,
   "metadata": {
    "collapsed": false
   },
   "outputs": [],
   "source": [
    "# Add numbering to heading 2 and 3\n",
    "headingcounter = {'h1':0,'h2':0,'h3':0}\n",
    "for tag in soup.find_all(['h2','h3']):\n",
    "    #print tag.name, tag.text\n",
    "    if tag.name == 'h1':\n",
    "        headingcounter['h1']+=1\n",
    "    elif tag.name == 'h2':\n",
    "        headingcounter['h2']+=1\n",
    "        tag.string = str(headingcounter['h2']) + r'.  ' + tag.string\n",
    "    elif tag.name == 'h3':\n",
    "        headingcounter['h3']+=1\n",
    "        tag.string = str(headingcounter['h2']) + '.' + str(headingcounter['h3']) + '.  ' + tag.string\n"
   ]
  },
  {
   "cell_type": "code",
   "execution_count": 193,
   "metadata": {
    "collapsed": false
   },
   "outputs": [],
   "source": [
    "#write html back to html file\n",
    "\n",
    "write_target = INPUT_FILE + r'.html'\n",
    "text_file = open(write_target, \"w\")\n",
    "\n",
    "#text_file.write(soup.prettify().encode(\"UTF-8\"))\n",
    "text_file.write(soup.encode(\"UTF-8\")) #when you prettify it it fucks up the superscripts with extra blank lines\n",
    "\n",
    "text_file.close()"
   ]
  },
  {
   "cell_type": "code",
   "execution_count": 194,
   "metadata": {
    "collapsed": false
   },
   "outputs": [],
   "source": [
    "#convert to pdf\n",
    "#wkhtml seems to be struggling with the rendering of LaTeX. Seems to be because of poor compatibility with MathJax.\n",
    "#pdf_target = '\"'+ INPUT_FILE + r'.pdf\"'\n",
    "#!wkhtmltopdf '\"' + $write_target + '\" ' + $INPUT_FILE"
   ]
  },
  {
   "cell_type": "code",
   "execution_count": 195,
   "metadata": {
    "collapsed": false
   },
   "outputs": [
    {
     "name": "stdout",
     "output_type": "stream",
     "text": [
      "Darwin\n"
     ]
    }
   ],
   "source": [
    "#open the html to test\n",
    "from platform import system\n",
    "print system()\n",
    "if system() == 'Windows':\n",
    "    open_string = r'\"C:\\Program Files\\Google\\Chrome\\Application\\chrome.exe\" \"' + write_target + '\"'\n",
    "elif system() == 'Darwin': #mac os x. needs checking\n",
    "    open_string = r'/usr/bin/open -a \"/Applications/Google Chrome.app\" \"' + write_target + '\"'\n",
    "\n",
    "#open the new html file in chrome\n",
    "#if you don't have chrome installed, or have it installed in a different place, it'll probably crack the shits\n",
    "!$open_string"
   ]
  }
 ],
 "metadata": {
  "kernelspec": {
   "display_name": "Python 2",
   "language": "python",
   "name": "python2"
  },
  "language_info": {
   "codemirror_mode": {
    "name": "ipython",
    "version": 2
   },
   "file_extension": ".py",
   "mimetype": "text/x-python",
   "name": "python",
   "nbconvert_exporter": "python",
   "pygments_lexer": "ipython2",
   "version": "2.7.10"
  }
 },
 "nbformat": 4,
 "nbformat_minor": 0
}
